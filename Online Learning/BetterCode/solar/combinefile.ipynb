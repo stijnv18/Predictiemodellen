{
 "cells": [
  {
   "cell_type": "code",
   "execution_count": 1,
   "metadata": {},
   "outputs": [],
   "source": [
    "import pandas as pd\n",
    "\n",
    "# Read the CSV file\n",
    "df = pd.read_csv('2011_melted.csv')\n",
    "\n",
    "# Pivot the 'Consumption Category' column\n",
    "pivot_df = df.pivot_table(index=['datetime', 'Customer', 'Generator Capacity', 'Postcode'], \n",
    "                          columns='Consumption Category', \n",
    "                          values='consumption', \n",
    "                          fill_value=0)\n",
    "\n",
    "# Reset the index to make the index columns into regular columns\n",
    "pivot_df.reset_index(inplace=True)\n",
    "\n",
    "# Rename the columns\n",
    "pivot_df.columns.name = None\n",
    "pivot_df.rename(columns={'GG': 'consumption gg', 'CL': 'consumption cl', 'GC': 'consumption gc'}, inplace=True)\n",
    "\n",
    "# Write the DataFrame back to CSV\n",
    "pivot_df.to_csv('2011_short_correct.csv', index=False)"
   ]
  },
  {
   "cell_type": "code",
   "execution_count": null,
   "metadata": {},
   "outputs": [],
   "source": []
  },
  {
   "cell_type": "code",
   "execution_count": 2,
   "metadata": {},
   "outputs": [
    {
     "ename": "NameError",
     "evalue": "name 'df_melted' is not defined",
     "output_type": "error",
     "traceback": [
      "\u001b[1;31m---------------------------------------------------------------------------\u001b[0m",
      "\u001b[1;31mNameError\u001b[0m                                 Traceback (most recent call last)",
      "Cell \u001b[1;32mIn[2], line 1\u001b[0m\n\u001b[1;32m----> 1\u001b[0m \u001b[43mdf_melted\u001b[49m\u001b[38;5;241m.\u001b[39mhead()\n",
      "\u001b[1;31mNameError\u001b[0m: name 'df_melted' is not defined"
     ]
    }
   ],
   "source": [
    "df_melted.head()"
   ]
  },
  {
   "cell_type": "code",
   "execution_count": null,
   "metadata": {},
   "outputs": [],
   "source": [
    "#save the file\n",
    "df_melted.to_csv('2011_melted.csv')"
   ]
  },
  {
   "cell_type": "code",
   "execution_count": null,
   "metadata": {},
   "outputs": [],
   "source": []
  },
  {
   "cell_type": "code",
   "execution_count": null,
   "metadata": {},
   "outputs": [],
   "source": []
  }
 ],
 "metadata": {
  "kernelspec": {
   "display_name": "Python 3",
   "language": "python",
   "name": "python3"
  },
  "language_info": {
   "codemirror_mode": {
    "name": "ipython",
    "version": 3
   },
   "file_extension": ".py",
   "mimetype": "text/x-python",
   "name": "python",
   "nbconvert_exporter": "python",
   "pygments_lexer": "ipython3",
   "version": "3.10.9"
  }
 },
 "nbformat": 4,
 "nbformat_minor": 2
}
