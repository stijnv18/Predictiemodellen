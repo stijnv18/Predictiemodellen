{
 "cells": [
  {
   "cell_type": "code",
   "execution_count": 1,
   "metadata": {},
   "outputs": [
    {
     "ename": "KeyboardInterrupt",
     "evalue": "",
     "output_type": "error",
     "traceback": [
      "\u001b[1;31m---------------------------------------------------------------------------\u001b[0m",
      "\u001b[1;31mKeyboardInterrupt\u001b[0m                         Traceback (most recent call last)",
      "Cell \u001b[1;32mIn[1], line 36\u001b[0m\n\u001b[0;32m     34\u001b[0m \u001b[38;5;28;01mfor\u001b[39;00m xi, yi \u001b[38;5;129;01min\u001b[39;00m stream\u001b[38;5;241m.\u001b[39miter_pandas(df[features], df[target]):\n\u001b[0;32m     35\u001b[0m     y_pred \u001b[38;5;241m=\u001b[39m model\u001b[38;5;241m.\u001b[39mpredict_one(xi) \u001b[38;5;28;01mif\u001b[39;00m model \u001b[38;5;28;01melse\u001b[39;00m \u001b[38;5;28;01mNone\u001b[39;00m\n\u001b[1;32m---> 36\u001b[0m     \u001b[43mmodel\u001b[49m\u001b[38;5;241;43m.\u001b[39;49m\u001b[43mlearn_one\u001b[49m\u001b[43m(\u001b[49m\u001b[43mxi\u001b[49m\u001b[43m,\u001b[49m\u001b[43m \u001b[49m\u001b[43myi\u001b[49m\u001b[43m)\u001b[49m\n\u001b[0;32m     37\u001b[0m     \u001b[38;5;28;01mif\u001b[39;00m y_pred \u001b[38;5;129;01mis\u001b[39;00m \u001b[38;5;129;01mnot\u001b[39;00m \u001b[38;5;28;01mNone\u001b[39;00m:\n\u001b[0;32m     38\u001b[0m         metric\u001b[38;5;241m.\u001b[39mupdate(yi, y_pred)\n",
      "File \u001b[1;32mc:\\Users\\Stijn\\AppData\\Local\\Programs\\Python\\Python310\\lib\\site-packages\\river\\compose\\pipeline.py:474\u001b[0m, in \u001b[0;36mPipeline.learn_one\u001b[1;34m(self, x, y, **params)\u001b[0m\n\u001b[0;32m    471\u001b[0m \u001b[38;5;66;03m# Here the step is not a transformer, and it's supervised, such as a LinearRegression.\u001b[39;00m\n\u001b[0;32m    472\u001b[0m \u001b[38;5;66;03m# This is usually the last step of the pipeline.\u001b[39;00m\n\u001b[0;32m    473\u001b[0m \u001b[38;5;28;01melif\u001b[39;00m step\u001b[38;5;241m.\u001b[39m_supervised:\n\u001b[1;32m--> 474\u001b[0m     \u001b[43mstep\u001b[49m\u001b[38;5;241;43m.\u001b[39;49m\u001b[43mlearn_one\u001b[49m\u001b[43m(\u001b[49m\u001b[43mx\u001b[49m\u001b[38;5;241;43m=\u001b[39;49m\u001b[43mx\u001b[49m\u001b[43m,\u001b[49m\u001b[43m \u001b[49m\u001b[43my\u001b[49m\u001b[38;5;241;43m=\u001b[39;49m\u001b[43my\u001b[49m\u001b[43m)\u001b[49m\n\u001b[0;32m    475\u001b[0m \u001b[38;5;66;03m# Here the step is not a transformer, and it's unsupervised, such as a KMeans. This\u001b[39;00m\n\u001b[0;32m    476\u001b[0m \u001b[38;5;66;03m# is also usually the last step of the pipeline.\u001b[39;00m\n\u001b[0;32m    477\u001b[0m \u001b[38;5;28;01melse\u001b[39;00m:\n\u001b[0;32m    478\u001b[0m     step\u001b[38;5;241m.\u001b[39mlearn_one(x\u001b[38;5;241m=\u001b[39mx)\n",
      "File \u001b[1;32mc:\\Users\\Stijn\\AppData\\Local\\Programs\\Python\\Python310\\lib\\site-packages\\river\\feature_selection\\k_best.py:83\u001b[0m, in \u001b[0;36mSelectKBest.learn_one\u001b[1;34m(self, x, y)\u001b[0m\n\u001b[0;32m     81\u001b[0m \u001b[38;5;28;01mfor\u001b[39;00m i, xi \u001b[38;5;129;01min\u001b[39;00m x\u001b[38;5;241m.\u001b[39mitems():\n\u001b[0;32m     82\u001b[0m     \u001b[38;5;28mself\u001b[39m\u001b[38;5;241m.\u001b[39msimilarities[i]\u001b[38;5;241m.\u001b[39mupdate(xi, y)\n\u001b[1;32m---> 83\u001b[0m     \u001b[38;5;28mself\u001b[39m\u001b[38;5;241m.\u001b[39mleaderboard[i] \u001b[38;5;241m=\u001b[39m \u001b[38;5;28;43mself\u001b[39;49m\u001b[38;5;241;43m.\u001b[39;49m\u001b[43msimilarities\u001b[49m\u001b[43m[\u001b[49m\u001b[43mi\u001b[49m\u001b[43m]\u001b[49m\u001b[38;5;241;43m.\u001b[39;49m\u001b[43mget\u001b[49m\u001b[43m(\u001b[49m\u001b[43m)\u001b[49m\n",
      "File \u001b[1;32mc:\\Users\\Stijn\\AppData\\Local\\Programs\\Python\\Python310\\lib\\site-packages\\river\\metrics\\accuracy.py:37\u001b[0m, in \u001b[0;36mAccuracy.get\u001b[1;34m(self)\u001b[0m\n\u001b[0;32m     35\u001b[0m \u001b[38;5;28;01mdef\u001b[39;00m \u001b[38;5;21mget\u001b[39m(\u001b[38;5;28mself\u001b[39m):\n\u001b[0;32m     36\u001b[0m     \u001b[38;5;28;01mtry\u001b[39;00m:\n\u001b[1;32m---> 37\u001b[0m         \u001b[38;5;28;01mreturn\u001b[39;00m \u001b[38;5;28;43mself\u001b[39;49m\u001b[38;5;241;43m.\u001b[39;49m\u001b[43mcm\u001b[49m\u001b[38;5;241;43m.\u001b[39;49m\u001b[43mtotal_true_positives\u001b[49m \u001b[38;5;241m/\u001b[39m \u001b[38;5;28mself\u001b[39m\u001b[38;5;241m.\u001b[39mcm\u001b[38;5;241m.\u001b[39mtotal_weight\n\u001b[0;32m     38\u001b[0m     \u001b[38;5;28;01mexcept\u001b[39;00m \u001b[38;5;167;01mZeroDivisionError\u001b[39;00m:\n\u001b[0;32m     39\u001b[0m         \u001b[38;5;28;01mreturn\u001b[39;00m \u001b[38;5;241m0.0\u001b[39m\n",
      "File \u001b[1;32mc:\\Users\\Stijn\\AppData\\Local\\Programs\\Python\\Python310\\lib\\site-packages\\river\\metrics\\confusion.py:115\u001b[0m, in \u001b[0;36mConfusionMatrix.total_true_positives\u001b[1;34m(self)\u001b[0m\n\u001b[0;32m    113\u001b[0m \u001b[38;5;129m@property\u001b[39m\n\u001b[0;32m    114\u001b[0m \u001b[38;5;28;01mdef\u001b[39;00m \u001b[38;5;21mtotal_true_positives\u001b[39m(\u001b[38;5;28mself\u001b[39m):\n\u001b[1;32m--> 115\u001b[0m     \u001b[38;5;28;01mreturn\u001b[39;00m \u001b[38;5;28;43msum\u001b[39;49m\u001b[43m(\u001b[49m\u001b[38;5;28;43mself\u001b[39;49m\u001b[38;5;241;43m.\u001b[39;49m\u001b[43mtrue_positives\u001b[49m\u001b[43m(\u001b[49m\u001b[43mlabel\u001b[49m\u001b[43m)\u001b[49m\u001b[43m \u001b[49m\u001b[38;5;28;43;01mfor\u001b[39;49;00m\u001b[43m \u001b[49m\u001b[43mlabel\u001b[49m\u001b[43m \u001b[49m\u001b[38;5;129;43;01min\u001b[39;49;00m\u001b[43m \u001b[49m\u001b[38;5;28;43mself\u001b[39;49m\u001b[38;5;241;43m.\u001b[39;49m\u001b[43mclasses\u001b[49m\u001b[43m)\u001b[49m\n",
      "File \u001b[1;32mc:\\Users\\Stijn\\AppData\\Local\\Programs\\Python\\Python310\\lib\\site-packages\\river\\metrics\\confusion.py:115\u001b[0m, in \u001b[0;36m<genexpr>\u001b[1;34m(.0)\u001b[0m\n\u001b[0;32m    113\u001b[0m \u001b[38;5;129m@property\u001b[39m\n\u001b[0;32m    114\u001b[0m \u001b[38;5;28;01mdef\u001b[39;00m \u001b[38;5;21mtotal_true_positives\u001b[39m(\u001b[38;5;28mself\u001b[39m):\n\u001b[1;32m--> 115\u001b[0m     \u001b[38;5;28;01mreturn\u001b[39;00m \u001b[38;5;28msum\u001b[39m(\u001b[38;5;28mself\u001b[39m\u001b[38;5;241m.\u001b[39mtrue_positives(label) \u001b[38;5;28;01mfor\u001b[39;00m label \u001b[38;5;129;01min\u001b[39;00m \u001b[38;5;28mself\u001b[39m\u001b[38;5;241m.\u001b[39mclasses)\n",
      "\u001b[1;31mKeyboardInterrupt\u001b[0m: "
     ]
    }
   ],
   "source": [
    "import pandas as pd\n",
    "from river import compose\n",
    "from river import linear_model\n",
    "from river import metrics\n",
    "from river import preprocessing\n",
    "from river import stream\n",
    "from river.feature_selection import SelectKBest\n",
    "from river.metrics import Accuracy\n",
    "import matplotlib.pyplot as plt\n",
    "# Load the data\n",
    "df = pd.read_csv('residential4_grid_import_export_weather_fixed_timestamps.csv')\n",
    "\n",
    "# Convert the 'utc_timestamp' column to datetime\n",
    "df['utc_timestamp'] = pd.to_datetime(df['utc_timestamp'])\n",
    "\n",
    "# Extract day of the week and hour of the day\n",
    "df['day_of_week'] = df['utc_timestamp'].dt.dayofweek\n",
    "df['hour_of_day'] = df['utc_timestamp'].dt.hour\n",
    "\n",
    "\n",
    "\n",
    "\n",
    "# Define the features and the target\n",
    "features = ['hour_of_day', 'DE_KN_residential4_grid_export']\n",
    "target = 'DE_KN_residential4_grid_import'\n",
    "\n",
    "# Create a model\n",
    "model = compose.Pipeline(\n",
    "    SelectKBest(Accuracy(), k=2),\n",
    "    preprocessing.StandardScaler(),\n",
    "    linear_model.LinearRegression()\n",
    ")\n",
    "# Define a metric\n",
    "metric = metrics.MAE()\n",
    "\n",
    "# Iterate over the data and update the model and the metric\n",
    "for xi, yi in stream.iter_pandas(df[features], df[target]):\n",
    "    y_pred = model.predict_one(xi) if model else None\n",
    "    model.learn_one(xi, yi)\n",
    "    if y_pred is not None:\n",
    "        metric.update(yi, y_pred)\n",
    "\n",
    "print(f'MAE: {metric.get()}')\n",
    "\n",
    "\n",
    "\n",
    "# Get the linear regression model from the pipeline\n",
    "lr = model['LinearRegression']\n",
    "\n",
    "# Get the feature importances\n",
    "importances = lr.weights\n",
    "\n",
    "# Sort the features by importance\n",
    "sorted_features = sorted(importances.items(), key=lambda x: x[1], reverse=True)\n",
    "\n",
    "# Plot the feature importances\n",
    "plt.bar(*zip(*sorted_features))\n",
    "plt.xticks(rotation=90)\n",
    "plt.show()"
   ]
  }
 ],
 "metadata": {
  "kernelspec": {
   "display_name": "Python 3",
   "language": "python",
   "name": "python3"
  },
  "language_info": {
   "codemirror_mode": {
    "name": "ipython",
    "version": 3
   },
   "file_extension": ".py",
   "mimetype": "text/x-python",
   "name": "python",
   "nbconvert_exporter": "python",
   "pygments_lexer": "ipython3",
   "version": "3.10.9"
  }
 },
 "nbformat": 4,
 "nbformat_minor": 2
}
