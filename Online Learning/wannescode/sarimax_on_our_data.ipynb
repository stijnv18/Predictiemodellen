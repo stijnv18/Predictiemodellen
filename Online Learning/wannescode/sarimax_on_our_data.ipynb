{
 "cells": [
  {
   "cell_type": "code",
   "execution_count": 23,
   "metadata": {},
   "outputs": [
    {
     "name": "stdout",
     "output_type": "stream",
     "text": [
      "Note: you may need to restart the kernel to use updated packages.\n"
     ]
    },
    {
     "name": "stderr",
     "output_type": "stream",
     "text": [
      "\n",
      "[notice] A new release of pip is available: 23.3.2 -> 24.0\n",
      "[notice] To update, run: python.exe -m pip install --upgrade pip\n"
     ]
    }
   ],
   "source": [
    "from datetime import datetime\n",
    "import numpy as np\n",
    "import pandas as pd\n",
    "import matplotlib.pylab as plt\n",
    "%matplotlib inline\n",
    "from matplotlib.pylab import rcParams\n",
    "\n",
    "from statsmodels.tsa.stattools import adfuller\n",
    "%pip install pmdarima -q\n",
    "import pmdarima as pm\n",
    "from statsmodels.tsa.statespace.sarimax import SARIMAX\n",
    "from statsmodels.tsa.arima.model import ARIMA"
   ]
  },
  {
   "cell_type": "code",
   "execution_count": 24,
   "metadata": {},
   "outputs": [
    {
     "name": "stdout",
     "output_type": "stream",
     "text": [
      "  utc_timestamp  DE_KN_residential4_grid_import  \\\n",
      "0    2015-10-10                        1.837840   \n",
      "1    2015-10-11                        5.083840   \n",
      "2    2015-10-12                        9.824345   \n",
      "3    2015-10-13                       14.717635   \n",
      "4    2015-10-14                       27.373166   \n",
      "\n",
      "   DE_KN_residential4_grid_export      temp  holiday  season_Autumn  \\\n",
      "0                        0.000000  7.918333      0.0            1.0   \n",
      "1                        3.193533  6.505729      0.0            1.0   \n",
      "2                       21.286176  5.033854      0.0            1.0   \n",
      "3                       39.081159  3.545833      0.0            1.0   \n",
      "4                       46.060247  3.981771      0.0            1.0   \n",
      "\n",
      "   season_Spring  season_Summer  season_Winter  day_of_week_Friday  \\\n",
      "0            0.0            0.0            0.0                 0.0   \n",
      "1            0.0            0.0            0.0                 0.0   \n",
      "2            0.0            0.0            0.0                 0.0   \n",
      "3            0.0            0.0            0.0                 0.0   \n",
      "4            0.0            0.0            0.0                 0.0   \n",
      "\n",
      "   day_of_week_Monday  day_of_week_Saturday  day_of_week_Sunday  \\\n",
      "0                 0.0                   1.0                 0.0   \n",
      "1                 0.0                   0.0                 1.0   \n",
      "2                 1.0                   0.0                 0.0   \n",
      "3                 0.0                   0.0                 0.0   \n",
      "4                 0.0                   0.0                 0.0   \n",
      "\n",
      "   day_of_week_Thursday  day_of_week_Tuesday  day_of_week_Wednesday  \n",
      "0                   0.0                  0.0                    0.0  \n",
      "1                   0.0                  0.0                    0.0  \n",
      "2                   0.0                  0.0                    0.0  \n",
      "3                   0.0                  1.0                    0.0  \n",
      "4                   0.0                  0.0                    1.0  \n"
     ]
    }
   ],
   "source": [
    "df = pd.read_csv('D:\\\\bachelor\\\\dataset_resampled.csv')\n",
    "print(df.head())"
   ]
  },
  {
   "cell_type": "code",
   "execution_count": 25,
   "metadata": {},
   "outputs": [],
   "source": [
    "# Convert 'utc_timestamp' to datetime format if it's not already\n",
    "df['utc_timestamp'] = pd.to_datetime(df['utc_timestamp'])\n",
    "\n",
    "# Convert 'utc_timestamp' to ordinal date (number of days since a certain date)\n",
    "df['utc_timestamp'] = df['utc_timestamp'].apply(lambda x: x.toordinal())"
   ]
  },
  {
   "cell_type": "code",
   "execution_count": 26,
   "metadata": {},
   "outputs": [],
   "source": [
    "# Define the endogenous variable (the variable we want to predict)\n",
    "endog = df['DE_KN_residential4_grid_import']\n",
    "\n",
    "# Define the exogenous variables (the variables we use to predict the endogenous variable)\n",
    "exog = df.drop(['DE_KN_residential4_grid_import', 'DE_KN_residential4_grid_export'], axis=1)"
   ]
  },
  {
   "cell_type": "code",
   "execution_count": 27,
   "metadata": {},
   "outputs": [
    {
     "name": "stderr",
     "output_type": "stream",
     "text": [
      "c:\\Users\\wavad\\anaconda3\\Lib\\site-packages\\statsmodels\\base\\model.py:607: ConvergenceWarning: Maximum Likelihood optimization failed to converge. Check mle_retvals\n",
      "  warnings.warn(\"Maximum Likelihood optimization failed to \"\n"
     ]
    }
   ],
   "source": [
    "# Define the model\n",
    "model = ARIMA(endog, order=(1, 1, 1), exog=exog)\n",
    "\n",
    "# Fit the model\n",
    "model_fit = model.fit()"
   ]
  },
  {
   "cell_type": "code",
   "execution_count": 28,
   "metadata": {},
   "outputs": [],
   "source": [
    "# Fit the SARIMAX model\n",
    "SARIMAX_model = pm.auto_arima(endog, exogenous=exog,\n",
    "                              start_p=1, start_q=1,\n",
    "                              test='adf',\n",
    "                              max_p=3, max_q=3, m=12,\n",
    "                              start_P=0, seasonal=True,\n",
    "                              d=None, D=1, trace=False,\n",
    "                              error_action='ignore',\n",
    "                              suppress_warnings=True,\n",
    "                              stepwise=True)"
   ]
  },
  {
   "cell_type": "code",
   "execution_count": 29,
   "metadata": {},
   "outputs": [],
   "source": [
    "def sarimax_forecast(train, test, order, seasonal_order, exog_train, exog_test):\n",
    "    model = SARIMAX(train, order=order, seasonal_order=seasonal_order, exog=exog_train)\n",
    "    model_fit = model.fit(disp=False)\n",
    "    predictions = model_fit.predict(start=len(train), end=len(train)+len(test)-1, exog=exog_test)\n",
    "    return predictions\n"
   ]
  },
  {
   "cell_type": "code",
   "execution_count": 30,
   "metadata": {},
   "outputs": [
    {
     "name": "stderr",
     "output_type": "stream",
     "text": [
      "c:\\Users\\wavad\\anaconda3\\Lib\\site-packages\\statsmodels\\base\\model.py:607: ConvergenceWarning: Maximum Likelihood optimization failed to converge. Check mle_retvals\n",
      "  warnings.warn(\"Maximum Likelihood optimization failed to \"\n"
     ]
    }
   ],
   "source": [
    "# Split your data into training and test sets\n",
    "train_size = int(len(df) * 0.8)\n",
    "train, test = df['DE_KN_residential4_grid_import'][:train_size], df['DE_KN_residential4_grid_import'][train_size:]\n",
    "exog_train, exog_test = exog[:train_size], exog[train_size:]\n",
    "\n",
    "# Define the order and seasonal_order parameters\n",
    "order = (1, 1, 1)\n",
    "seasonal_order = (1, 1, 1, 12)\n",
    "\n",
    "# Call the function\n",
    "predictions = sarimax_forecast(train, test, order, seasonal_order, exog_train, exog_test)"
   ]
  },
  {
   "cell_type": "code",
   "execution_count": 31,
   "metadata": {},
   "outputs": [
    {
     "name": "stderr",
     "output_type": "stream",
     "text": [
      "c:\\Users\\wavad\\anaconda3\\Lib\\site-packages\\statsmodels\\base\\model.py:607: ConvergenceWarning: Maximum Likelihood optimization failed to converge. Check mle_retvals\n",
      "  warnings.warn(\"Maximum Likelihood optimization failed to \"\n"
     ]
    },
    {
     "data": {
      "text/html": [
       "<table class=\"simpletable\">\n",
       "<caption>SARIMAX Results</caption>\n",
       "<tr>\n",
       "  <th>Dep. Variable:</th>   <td>DE_KN_residential4_grid_import</td> <th>  No. Observations:  </th>    <td>849</td>   \n",
       "</tr>\n",
       "<tr>\n",
       "  <th>Model:</th>                   <td>ARIMA(1, 1, 1)</td>         <th>  Log Likelihood     </th> <td>-2126.204</td>\n",
       "</tr>\n",
       "<tr>\n",
       "  <th>Date:</th>                   <td>Fri, 16 Feb 2024</td>        <th>  AIC                </th> <td>4286.407</td> \n",
       "</tr>\n",
       "<tr>\n",
       "  <th>Time:</th>                       <td>14:50:03</td>            <th>  BIC                </th> <td>4367.036</td> \n",
       "</tr>\n",
       "<tr>\n",
       "  <th>Sample:</th>                         <td>0</td>               <th>  HQIC               </th> <td>4317.296</td> \n",
       "</tr>\n",
       "<tr>\n",
       "  <th></th>                             <td> - 849</td>             <th>                     </th>     <td> </td>    \n",
       "</tr>\n",
       "<tr>\n",
       "  <th>Covariance Type:</th>               <td>opg</td>              <th>                     </th>     <td> </td>    \n",
       "</tr>\n",
       "</table>\n",
       "<table class=\"simpletable\">\n",
       "<tr>\n",
       "            <td></td>               <th>coef</th>     <th>std err</th>      <th>z</th>      <th>P>|z|</th>  <th>[0.025</th>    <th>0.975]</th>  \n",
       "</tr>\n",
       "<tr>\n",
       "  <th>utc_timestamp</th>         <td>   -0.0130</td> <td>    2.577</td> <td>   -0.005</td> <td> 0.996</td> <td>   -5.063</td> <td>    5.037</td>\n",
       "</tr>\n",
       "<tr>\n",
       "  <th>temp</th>                  <td>    0.0764</td> <td>    0.040</td> <td>    1.919</td> <td> 0.055</td> <td>   -0.002</td> <td>    0.154</td>\n",
       "</tr>\n",
       "<tr>\n",
       "  <th>holiday</th>               <td> 1.993e-15</td> <td> 1.08e-14</td> <td>    0.185</td> <td> 0.853</td> <td>-1.91e-14</td> <td> 2.31e-14</td>\n",
       "</tr>\n",
       "<tr>\n",
       "  <th>season_Autumn</th>         <td>    0.4609</td> <td>    1.292</td> <td>    0.357</td> <td> 0.721</td> <td>   -2.072</td> <td>    2.994</td>\n",
       "</tr>\n",
       "<tr>\n",
       "  <th>season_Spring</th>         <td>    0.7059</td> <td>    1.712</td> <td>    0.412</td> <td> 0.680</td> <td>   -2.649</td> <td>    4.061</td>\n",
       "</tr>\n",
       "<tr>\n",
       "  <th>season_Summer</th>         <td>   -0.1787</td> <td>    2.299</td> <td>   -0.078</td> <td> 0.938</td> <td>   -4.684</td> <td>    4.327</td>\n",
       "</tr>\n",
       "<tr>\n",
       "  <th>season_Winter</th>         <td>   -0.9882</td> <td>    1.221</td> <td>   -0.809</td> <td> 0.418</td> <td>   -3.382</td> <td>    1.405</td>\n",
       "</tr>\n",
       "<tr>\n",
       "  <th>day_of_week_Friday</th>    <td>   -0.5264</td> <td>    0.197</td> <td>   -2.672</td> <td> 0.008</td> <td>   -0.913</td> <td>   -0.140</td>\n",
       "</tr>\n",
       "<tr>\n",
       "  <th>day_of_week_Monday</th>    <td>    0.4609</td> <td>    0.202</td> <td>    2.279</td> <td> 0.023</td> <td>    0.065</td> <td>    0.857</td>\n",
       "</tr>\n",
       "<tr>\n",
       "  <th>day_of_week_Saturday</th>  <td>   -0.4748</td> <td>    0.185</td> <td>   -2.566</td> <td> 0.010</td> <td>   -0.838</td> <td>   -0.112</td>\n",
       "</tr>\n",
       "<tr>\n",
       "  <th>day_of_week_Sunday</th>    <td>    0.2824</td> <td>    0.179</td> <td>    1.578</td> <td> 0.114</td> <td>   -0.068</td> <td>    0.633</td>\n",
       "</tr>\n",
       "<tr>\n",
       "  <th>day_of_week_Thursday</th>  <td>   -0.2401</td> <td>    0.217</td> <td>   -1.106</td> <td> 0.269</td> <td>   -0.666</td> <td>    0.186</td>\n",
       "</tr>\n",
       "<tr>\n",
       "  <th>day_of_week_Tuesday</th>   <td>    0.2701</td> <td>    0.209</td> <td>    1.291</td> <td> 0.197</td> <td>   -0.140</td> <td>    0.680</td>\n",
       "</tr>\n",
       "<tr>\n",
       "  <th>day_of_week_Wednesday</th> <td>    0.2159</td> <td>    0.206</td> <td>    1.050</td> <td> 0.294</td> <td>   -0.187</td> <td>    0.619</td>\n",
       "</tr>\n",
       "<tr>\n",
       "  <th>ar.L1</th>                 <td>    0.9896</td> <td>    0.005</td> <td>  205.582</td> <td> 0.000</td> <td>    0.980</td> <td>    0.999</td>\n",
       "</tr>\n",
       "<tr>\n",
       "  <th>ma.L1</th>                 <td>   -0.2372</td> <td>    0.023</td> <td>  -10.400</td> <td> 0.000</td> <td>   -0.282</td> <td>   -0.193</td>\n",
       "</tr>\n",
       "<tr>\n",
       "  <th>sigma2</th>                <td>    8.7819</td> <td>    0.254</td> <td>   34.547</td> <td> 0.000</td> <td>    8.284</td> <td>    9.280</td>\n",
       "</tr>\n",
       "</table>\n",
       "<table class=\"simpletable\">\n",
       "<tr>\n",
       "  <th>Ljung-Box (L1) (Q):</th>     <td>3.53</td> <th>  Jarque-Bera (JB):  </th> <td>810.25</td>\n",
       "</tr>\n",
       "<tr>\n",
       "  <th>Prob(Q):</th>                <td>0.06</td> <th>  Prob(JB):          </th>  <td>0.00</td> \n",
       "</tr>\n",
       "<tr>\n",
       "  <th>Heteroskedasticity (H):</th> <td>0.94</td> <th>  Skew:              </th>  <td>0.31</td> \n",
       "</tr>\n",
       "<tr>\n",
       "  <th>Prob(H) (two-sided):</th>    <td>0.61</td> <th>  Kurtosis:          </th>  <td>7.75</td> \n",
       "</tr>\n",
       "</table><br/><br/>Warnings:<br/>[1] Covariance matrix calculated using the outer product of gradients (complex-step).<br/>[2] Covariance matrix is singular or near-singular, with condition number 4.66e+18. Standard errors may be unstable."
      ],
      "text/latex": [
       "\\begin{center}\n",
       "\\begin{tabular}{lclc}\n",
       "\\toprule\n",
       "\\textbf{Dep. Variable:}           & DE\\_KN\\_residential4\\_grid\\_import & \\textbf{  No. Observations:  } &    849      \\\\\n",
       "\\textbf{Model:}                   &           ARIMA(1, 1, 1)           & \\textbf{  Log Likelihood     } & -2126.204   \\\\\n",
       "\\textbf{Date:}                    &          Fri, 16 Feb 2024          & \\textbf{  AIC                } &  4286.407   \\\\\n",
       "\\textbf{Time:}                    &              14:50:03              & \\textbf{  BIC                } &  4367.036   \\\\\n",
       "\\textbf{Sample:}                  &                 0                  & \\textbf{  HQIC               } &  4317.296   \\\\\n",
       "\\textbf{}                         &                - 849               & \\textbf{                     } &             \\\\\n",
       "\\textbf{Covariance Type:}         &                opg                 & \\textbf{                     } &             \\\\\n",
       "\\bottomrule\n",
       "\\end{tabular}\n",
       "\\begin{tabular}{lcccccc}\n",
       "                                  & \\textbf{coef} & \\textbf{std err} & \\textbf{z} & \\textbf{P$> |$z$|$} & \\textbf{[0.025} & \\textbf{0.975]}  \\\\\n",
       "\\midrule\n",
       "\\textbf{utc\\_timestamp}           &      -0.0130  &        2.577     &    -0.005  &         0.996        &       -5.063    &        5.037     \\\\\n",
       "\\textbf{temp}                     &       0.0764  &        0.040     &     1.919  &         0.055        &       -0.002    &        0.154     \\\\\n",
       "\\textbf{holiday}                  &    1.993e-15  &     1.08e-14     &     0.185  &         0.853        &    -1.91e-14    &     2.31e-14     \\\\\n",
       "\\textbf{season\\_Autumn}           &       0.4609  &        1.292     &     0.357  &         0.721        &       -2.072    &        2.994     \\\\\n",
       "\\textbf{season\\_Spring}           &       0.7059  &        1.712     &     0.412  &         0.680        &       -2.649    &        4.061     \\\\\n",
       "\\textbf{season\\_Summer}           &      -0.1787  &        2.299     &    -0.078  &         0.938        &       -4.684    &        4.327     \\\\\n",
       "\\textbf{season\\_Winter}           &      -0.9882  &        1.221     &    -0.809  &         0.418        &       -3.382    &        1.405     \\\\\n",
       "\\textbf{day\\_of\\_week\\_Friday}    &      -0.5264  &        0.197     &    -2.672  &         0.008        &       -0.913    &       -0.140     \\\\\n",
       "\\textbf{day\\_of\\_week\\_Monday}    &       0.4609  &        0.202     &     2.279  &         0.023        &        0.065    &        0.857     \\\\\n",
       "\\textbf{day\\_of\\_week\\_Saturday}  &      -0.4748  &        0.185     &    -2.566  &         0.010        &       -0.838    &       -0.112     \\\\\n",
       "\\textbf{day\\_of\\_week\\_Sunday}    &       0.2824  &        0.179     &     1.578  &         0.114        &       -0.068    &        0.633     \\\\\n",
       "\\textbf{day\\_of\\_week\\_Thursday}  &      -0.2401  &        0.217     &    -1.106  &         0.269        &       -0.666    &        0.186     \\\\\n",
       "\\textbf{day\\_of\\_week\\_Tuesday}   &       0.2701  &        0.209     &     1.291  &         0.197        &       -0.140    &        0.680     \\\\\n",
       "\\textbf{day\\_of\\_week\\_Wednesday} &       0.2159  &        0.206     &     1.050  &         0.294        &       -0.187    &        0.619     \\\\\n",
       "\\textbf{ar.L1}                    &       0.9896  &        0.005     &   205.582  &         0.000        &        0.980    &        0.999     \\\\\n",
       "\\textbf{ma.L1}                    &      -0.2372  &        0.023     &   -10.400  &         0.000        &       -0.282    &       -0.193     \\\\\n",
       "\\textbf{sigma2}                   &       8.7819  &        0.254     &    34.547  &         0.000        &        8.284    &        9.280     \\\\\n",
       "\\bottomrule\n",
       "\\end{tabular}\n",
       "\\begin{tabular}{lclc}\n",
       "\\textbf{Ljung-Box (L1) (Q):}     & 3.53 & \\textbf{  Jarque-Bera (JB):  } & 810.25  \\\\\n",
       "\\textbf{Prob(Q):}                & 0.06 & \\textbf{  Prob(JB):          } &  0.00   \\\\\n",
       "\\textbf{Heteroskedasticity (H):} & 0.94 & \\textbf{  Skew:              } &  0.31   \\\\\n",
       "\\textbf{Prob(H) (two-sided):}    & 0.61 & \\textbf{  Kurtosis:          } &  7.75   \\\\\n",
       "\\bottomrule\n",
       "\\end{tabular}\n",
       "%\\caption{SARIMAX Results}\n",
       "\\end{center}\n",
       "\n",
       "Warnings: \\newline\n",
       " [1] Covariance matrix calculated using the outer product of gradients (complex-step). \\newline\n",
       " [2] Covariance matrix is singular or near-singular, with condition number 4.66e+18. Standard errors may be unstable."
      ],
      "text/plain": [
       "<class 'statsmodels.iolib.summary.Summary'>\n",
       "\"\"\"\n",
       "                                     SARIMAX Results                                      \n",
       "==========================================================================================\n",
       "Dep. Variable:     DE_KN_residential4_grid_import   No. Observations:                  849\n",
       "Model:                             ARIMA(1, 1, 1)   Log Likelihood               -2126.204\n",
       "Date:                            Fri, 16 Feb 2024   AIC                           4286.407\n",
       "Time:                                    14:50:03   BIC                           4367.036\n",
       "Sample:                                         0   HQIC                          4317.296\n",
       "                                            - 849                                         \n",
       "Covariance Type:                              opg                                         \n",
       "=========================================================================================\n",
       "                            coef    std err          z      P>|z|      [0.025      0.975]\n",
       "-----------------------------------------------------------------------------------------\n",
       "utc_timestamp            -0.0130      2.577     -0.005      0.996      -5.063       5.037\n",
       "temp                      0.0764      0.040      1.919      0.055      -0.002       0.154\n",
       "holiday                1.993e-15   1.08e-14      0.185      0.853   -1.91e-14    2.31e-14\n",
       "season_Autumn             0.4609      1.292      0.357      0.721      -2.072       2.994\n",
       "season_Spring             0.7059      1.712      0.412      0.680      -2.649       4.061\n",
       "season_Summer            -0.1787      2.299     -0.078      0.938      -4.684       4.327\n",
       "season_Winter            -0.9882      1.221     -0.809      0.418      -3.382       1.405\n",
       "day_of_week_Friday       -0.5264      0.197     -2.672      0.008      -0.913      -0.140\n",
       "day_of_week_Monday        0.4609      0.202      2.279      0.023       0.065       0.857\n",
       "day_of_week_Saturday     -0.4748      0.185     -2.566      0.010      -0.838      -0.112\n",
       "day_of_week_Sunday        0.2824      0.179      1.578      0.114      -0.068       0.633\n",
       "day_of_week_Thursday     -0.2401      0.217     -1.106      0.269      -0.666       0.186\n",
       "day_of_week_Tuesday       0.2701      0.209      1.291      0.197      -0.140       0.680\n",
       "day_of_week_Wednesday     0.2159      0.206      1.050      0.294      -0.187       0.619\n",
       "ar.L1                     0.9896      0.005    205.582      0.000       0.980       0.999\n",
       "ma.L1                    -0.2372      0.023    -10.400      0.000      -0.282      -0.193\n",
       "sigma2                    8.7819      0.254     34.547      0.000       8.284       9.280\n",
       "===================================================================================\n",
       "Ljung-Box (L1) (Q):                   3.53   Jarque-Bera (JB):               810.25\n",
       "Prob(Q):                              0.06   Prob(JB):                         0.00\n",
       "Heteroskedasticity (H):               0.94   Skew:                             0.31\n",
       "Prob(H) (two-sided):                  0.61   Kurtosis:                         7.75\n",
       "===================================================================================\n",
       "\n",
       "Warnings:\n",
       "[1] Covariance matrix calculated using the outer product of gradients (complex-step).\n",
       "[2] Covariance matrix is singular or near-singular, with condition number 4.66e+18. Standard errors may be unstable.\n",
       "\"\"\""
      ]
     },
     "execution_count": 31,
     "metadata": {},
     "output_type": "execute_result"
    }
   ],
   "source": [
    "# Fit the model\n",
    "model_fit = model.fit()\n",
    "\n",
    "# Use a method of the 'ARIMA' class\n",
    "model_fit.summary()"
   ]
  }
 ],
 "metadata": {
  "kernelspec": {
   "display_name": "base",
   "language": "python",
   "name": "python3"
  },
  "language_info": {
   "codemirror_mode": {
    "name": "ipython",
    "version": 3
   },
   "file_extension": ".py",
   "mimetype": "text/x-python",
   "name": "python",
   "nbconvert_exporter": "python",
   "pygments_lexer": "ipython3",
   "version": "3.11.5"
  }
 },
 "nbformat": 4,
 "nbformat_minor": 2
}
