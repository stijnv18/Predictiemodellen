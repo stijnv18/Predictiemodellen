{
 "cells": [
  {
   "cell_type": "code",
   "execution_count": 1,
   "metadata": {},
   "outputs": [
    {
     "name": "stderr",
     "output_type": "stream",
     "text": [
      "c:\\Users\\stijn\\anaconda3\\Lib\\site-packages\\pandas\\core\\arrays\\masked.py:60: UserWarning: Pandas requires version '1.3.6' or newer of 'bottleneck' (version '1.3.5' currently installed).\n",
      "  from pandas.core import (\n"
     ]
    },
    {
     "name": "stdout",
     "output_type": "stream",
     "text": [
      "1961-01-01 494.542\n",
      "1961-02-01 450.825\n",
      "1961-03-01 484.972\n",
      "1961-04-01 576.401\n",
      "1961-05-01 559.489\n",
      "1961-06-01 612.251\n",
      "1961-07-01 722.410\n",
      "1961-08-01 674.604\n",
      "1961-09-01 575.716\n",
      "1961-10-01 562.808\n",
      "1961-11-01 477.049\n",
      "1961-12-01 515.191\n"
     ]
    }
   ],
   "source": [
    "import datetime as dt\n",
    "from river import datasets\n",
    "from river import time_series\n",
    "from river import utils\n",
    "\n",
    "period = 12\n",
    "model = time_series.SNARIMAX(\n",
    "    p=period,\n",
    "    d=1,\n",
    "    q=period,\n",
    "    m=period,\n",
    "    sd=1\n",
    ")\n",
    "\n",
    "for t, (x, y) in enumerate(datasets.AirlinePassengers()):\n",
    "    model.learn_one(y)\n",
    "\n",
    "horizon = 12\n",
    "future = [\n",
    "    {'month': dt.date(year=1961, month=m, day=1)}\n",
    "    for m in range(1, horizon + 1)\n",
    "]\n",
    "forecast = model.forecast(horizon=horizon)\n",
    "for x, y_pred in zip(future, forecast):\n",
    "    print(x['month'], f'{y_pred:.3f}')"
   ]
  }
 ],
 "metadata": {
  "kernelspec": {
   "display_name": "base",
   "language": "python",
   "name": "python3"
  },
  "language_info": {
   "codemirror_mode": {
    "name": "ipython",
    "version": 3
   },
   "file_extension": ".py",
   "mimetype": "text/x-python",
   "name": "python",
   "nbconvert_exporter": "python",
   "pygments_lexer": "ipython3",
   "version": "3.11.5"
  }
 },
 "nbformat": 4,
 "nbformat_minor": 2
}
